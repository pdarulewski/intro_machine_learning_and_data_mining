{
 "cells": [
  {
   "cell_type": "code",
   "execution_count": 1,
   "metadata": {
    "collapsed": true,
    "pycharm": {
     "is_executing": false
    }
   },
   "outputs": [],
   "source": [
    "import pandas as pd\n",
    "import numpy as np"
   ]
  },
  {
   "cell_type": "code",
   "execution_count": 45,
   "outputs": [],
   "source": [
    "dataframe = pd.read_csv('data/data.csv')\n",
    "dataframe = dataframe[[\n",
    "    'ID', 'Age', 'Nationality', 'Club', 'Value', 'Wage', 'Position',\n",
    "    'Jersey Number', 'Joined', 'Loaned From', 'Contract Valid Until',\n",
    "    'Height', 'Weight', 'Jersey Number', 'Joined',\n",
    "    \n",
    "    'Finishing', 'SprintSpeed', 'Stamina', 'BallControl', 'Penalties', 'Aggression',\n",
    "    'StandingTackle', 'SlidingTackle', 'Interceptions', 'ShotPower', 'Dribbling',\n",
    "    'ShortPassing', 'LongPassing', 'LongShots'\n",
    "]]"
   ],
   "metadata": {
    "collapsed": false,
    "pycharm": {
     "name": "#%%\n",
     "is_executing": false
    }
   }
  },
  {
   "cell_type": "code",
   "execution_count": 46,
   "outputs": [
    {
     "name": "stdout",
     "text": [
      "<class 'pandas.core.frame.DataFrame'>\n",
      "RangeIndex: 18207 entries, 0 to 18206\n",
      "Data columns (total 29 columns):\n",
      " #   Column                Non-Null Count  Dtype  \n",
      "---  ------                --------------  -----  \n",
      " 0   ID                    18207 non-null  int64  \n",
      " 1   Age                   18207 non-null  int64  \n",
      " 2   Nationality           18207 non-null  object \n",
      " 3   Club                  17966 non-null  object \n",
      " 4   Value                 18207 non-null  object \n",
      " 5   Wage                  18207 non-null  object \n",
      " 6   Position              18147 non-null  object \n",
      " 7   Jersey Number         18147 non-null  float64\n",
      " 8   Joined                16654 non-null  object \n",
      " 9   Loaned From           1264 non-null   object \n",
      " 10  Contract Valid Until  17918 non-null  object \n",
      " 11  Height                18159 non-null  object \n",
      " 12  Weight                18159 non-null  object \n",
      " 13  Jersey Number         18147 non-null  float64\n",
      " 14  Joined                16654 non-null  object \n",
      " 15  Finishing             18159 non-null  float64\n",
      " 16  SprintSpeed           18159 non-null  float64\n",
      " 17  Stamina               18159 non-null  float64\n",
      " 18  BallControl           18159 non-null  float64\n",
      " 19  Penalties             18159 non-null  float64\n",
      " 20  Aggression            18159 non-null  float64\n",
      " 21  StandingTackle        18159 non-null  float64\n",
      " 22  SlidingTackle         18159 non-null  float64\n",
      " 23  Interceptions         18159 non-null  float64\n",
      " 24  ShotPower             18159 non-null  float64\n",
      " 25  Dribbling             18159 non-null  float64\n",
      " 26  ShortPassing          18159 non-null  float64\n",
      " 27  LongPassing           18159 non-null  float64\n",
      " 28  LongShots             18159 non-null  float64\n",
      "dtypes: float64(16), int64(2), object(11)\n",
      "memory usage: 4.0+ MB\n"
     ],
     "output_type": "stream"
    }
   ],
   "source": [
    "dataframe.info()"
   ],
   "metadata": {
    "collapsed": false,
    "pycharm": {
     "name": "#%%\n",
     "is_executing": false
    }
   }
  },
  {
   "cell_type": "code",
   "execution_count": 47,
   "outputs": [],
   "source": [
    "dataframe['Height'] = dataframe['Height'].apply(\n",
    "    lambda x: (int(x.split('\\'')[0]) * 12 + int(x.split('\\'')[1])) * 2.54 if x is not np.nan else x\n",
    ")\n",
    "\n",
    "dataframe['Height'] = dataframe['Height'].fillna(dataframe['Height'].mean())\n",
    "\n",
    "dataframe['Weight'] = dataframe['Weight'].apply(\n",
    "    lambda x: int(x[:3]) * 0.453592 if x is not np.nan else x\n",
    ")\n",
    "\n",
    "dataframe['Weight'] = dataframe['Weight'].fillna(dataframe['Weight'].mean())"
   ],
   "metadata": {
    "collapsed": false,
    "pycharm": {
     "name": "#%%\n",
     "is_executing": false
    }
   }
  },
  {
   "cell_type": "code",
   "execution_count": 48,
   "outputs": [],
   "source": [
    "for column in ['Value', 'Wage']:\n",
    "    dataframe[column] = dataframe[column].apply(\n",
    "        lambda x: x.split('€')[1]\n",
    "    )\n",
    "    dataframe[column] = dataframe[column].replace({'K': '*1e3', 'M': '*1e6'}, regex=True).map(pd.eval)"
   ],
   "metadata": {
    "collapsed": false,
    "pycharm": {
     "name": "#%%\n",
     "is_executing": false
    }
   }
  },
  {
   "cell_type": "code",
   "execution_count": null,
   "outputs": [],
   "source": [
    "\n"
   ],
   "metadata": {
    "collapsed": false,
    "pycharm": {
     "name": "#%%\n"
    }
   }
  }
 ],
 "metadata": {
  "kernelspec": {
   "display_name": "Python 3",
   "language": "python",
   "name": "python3"
  },
  "language_info": {
   "codemirror_mode": {
    "name": "ipython",
    "version": 2
   },
   "file_extension": ".py",
   "mimetype": "text/x-python",
   "name": "python",
   "nbconvert_exporter": "python",
   "pygments_lexer": "ipython2",
   "version": "2.7.6"
  },
  "pycharm": {
   "stem_cell": {
    "cell_type": "raw",
    "source": [],
    "metadata": {
     "collapsed": false
    }
   }
  }
 },
 "nbformat": 4,
 "nbformat_minor": 0
}